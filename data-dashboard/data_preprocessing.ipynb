{
 "cells": [
  {
   "cell_type": "code",
   "execution_count": 18,
   "metadata": {},
   "outputs": [],
   "source": [
    "import pandas as pd\n",
    "import warnings\n",
    "warnings.filterwarnings('ignore')"
   ]
  },
  {
   "cell_type": "code",
   "execution_count": 19,
   "metadata": {},
   "outputs": [],
   "source": [
    "df = pd.read_excel('/data-dashboard/dat/HomeBridger Data Feb112025 (Do not edit).xlsx', sheet_name=None)"
   ]
  },
  {
   "cell_type": "code",
   "execution_count": 20,
   "metadata": {},
   "outputs": [
    {
     "name": "stderr",
     "output_type": "stream",
     "text": [
      "/var/folders/lz/kqhzsf4s1wl78kvfdr4y184c0000gn/T/ipykernel_79710/4039803877.py:79: SettingWithCopyWarning: \n",
      "A value is trying to be set on a copy of a slice from a DataFrame.\n",
      "Try using .loc[row_indexer,col_indexer] = value instead\n",
      "\n",
      "See the caveats in the documentation: https://pandas.pydata.org/pandas-docs/stable/user_guide/indexing.html#returning-a-view-versus-a-copy\n",
      "  filtered_df[\"GOAL_STATUS_BINARY\"] = filtered_df[\"GOAL_STATUS__C\"].map({\"Achieved\": 1, \"Not Achieved\": 0})\n"
     ]
    }
   ],
   "source": [
    "client_goal_df = df['CLIENT_GOAL__C']\n",
    "program_engagement_df = df[\"PMDM__PROGRAMENGAGEMENT__C\"]\n",
    "\n",
    "# Create a mapping between family collective IDs and their members' races\n",
    "family_race_mapping = {}\n",
    "\n",
    "# For each row in program_engagement_df\n",
    "for _, row in program_engagement_df.iterrows():\n",
    "    # Get the external ID and family collective enrollment ID\n",
    "    external_id = row['EXTERNAL_ID__C']\n",
    "    family_id = row['EX_FAMILY_COLLECTIVE_ENROLLMENT__C']\n",
    "    race = row['RACE__C']\n",
    "    \n",
    "    if pd.notna(race):  # Only consider non-null race values\n",
    "        # If this is a family member (has a family ID)\n",
    "        if pd.notna(family_id):\n",
    "            # Add this member's race to the head's mapping\n",
    "            if family_id in family_race_mapping:\n",
    "                if race not in family_race_mapping[family_id]:\n",
    "                    family_race_mapping[family_id].append(race)\n",
    "            else:\n",
    "                family_race_mapping[family_id] = [race]\n",
    "        \n",
    "        # Also add the individual's own race to their own record\n",
    "        if external_id in family_race_mapping:\n",
    "            if race not in family_race_mapping[external_id]:\n",
    "                family_race_mapping[external_id].append(race)\n",
    "        else:\n",
    "            family_race_mapping[external_id] = [race]\n",
    "\n",
    "# Convert lists of races to a single string value\n",
    "for id_key, races in family_race_mapping.items():\n",
    "    family_race_mapping[id_key] = '; '.join(races)\n",
    "\n",
    "# Now create a new column with combined race information\n",
    "program_engagement_df['COMBINED_RACE'] = program_engagement_df['EXTERNAL_ID__C'].map(\n",
    "    lambda x: family_race_mapping.get(x, program_engagement_df.loc[program_engagement_df['EXTERNAL_ID__C'] == x, 'RACE__C'].values[0] \n",
    "              if not pd.isna(program_engagement_df.loc[program_engagement_df['EXTERNAL_ID__C'] == x, 'RACE__C']).all() else None)\n",
    ")\n",
    "\n",
    "# Now proceed with your original filtering\n",
    "program_engagement_df = program_engagement_df.drop_duplicates(subset=['EXTERNAL_ID__C'], keep='first')\n",
    "program_engagement_df = program_engagement_df[program_engagement_df['EX_FAMILY_COLLECTIVE_ENROLLMENT__C'].isna()]\n",
    "\n",
    "# Merge the dataframes\n",
    "merged_df = client_goal_df.merge(program_engagement_df,\n",
    "                                 left_on=\"EXT_HOUSEHOLD__C\",\n",
    "                                 right_on=\"EXTERNAL_ID__C\",\n",
    "                                 how=\"inner\")\n",
    "\n",
    "merged_df = merged_df.dropna(axis=1, how='all')\n",
    " \n",
    "# Filter by goal status\n",
    "filtered_df = merged_df[merged_df[\"GOAL_STATUS__C\"].isin([\"Achieved\", \"Not Achieved\"])]\n",
    "filtered_df[\"GOAL_STATUS_BINARY\"] = filtered_df[\"GOAL_STATUS__C\"].map({\"Achieved\": 1, \"Not Achieved\": 0})\n",
    "\n",
    "\n",
    "categorical_columns = [\n",
    "   'DOMAIN__C', 'OUTCOME__C',\n",
    "   'SPECIFIC_GOAL_ACTION_STEP__C', 'PMDM__STAGE__C',\n",
    "   'REASON_CLOSED__C', 'LIVING_SITUATION_AT_EXIT__C',\n",
    "   'LIVING_SITUATION_PRIOR_TO_ENTRY__C', 'PREGNANCY_STATUS_AT_ENROLLMENT__C',\n",
    "   'LIVING_SITUATION_AT_ENTRY__C', 'SUBSIDY_AT_EXIT__C', 'COUNTY_AT_ENTRY__C',\n",
    "   'COUNTY_AT_EXIT__C', 'RECORD_ORIGIN__C_y', 'TIME_TO_COMPLETE', 'COMBINED_RACE',\n",
    "]\n",
    "\n",
    "\n",
    "drop_columns =  ['SYSTEMMODSTAMP_x', 'GOAL_STATUS__C', 'EXT_HOUSEHOLD__C', 'EXT_CLIENT__C', 'EXTERNAL_ID__C_x', 'RECORD_HASH__C_x', 'TFC_SYNC__C_x', 'EX_ACCOUNT__C', 'SYSTEMMODSTAMP_y', 'EX_CONTACT__C', 'PMDM__APPLICATIONDATE__C', 'LAST_NAME__C', 'VERBAL_CONSENT_GIVEN_SALESFORCE_ROI__C', 'FIRST_NAME__C', 'VERBAL_CONSENT_GIVEN_HMIS_ROI__C', 'EMAIL__C', 'BIRTHDATE__C', 'VERBAL_CONSENT_GIVEN_MNPS_ROI__C', 'HMIS_ROI__C', 'HMIS_SALESFORCE__C', 'MNPS_ROI__C', 'GENDER__C',  'ETHNICITY__C', 'VETERAN_STATUS__C', 'PHONE__C', 'CLIENT_DOESN_T_KNOW__C', 'RECORD_TYPE_NAME__C', 'ENROLLED_IN_TFC_CHILDCARE__C', 'ZIPCODE_AT_EXIT__C', 'ZIPCODE_AT_ENTRY__C', 'EX_PARTNER_AGENCY__C', 'CLOSURE_DATE__C', 'CLOSURE_REASON__C', 'EXTERNAL_ID__C_y', 'CLONED_FROM_ID__C', 'RECORD_HASH__C_y', 'TFC_SYNC__C_y', 'RECORD_SOURCE__C','PMDM__ENDDATE__C','RECORD_ORIGIN__C_x','LATEST_DATE_OF_HOMELESSNESS__C','PMDM__STARTDATE__C','DATE_GOAL_ACHIEVED__C','PMDM__ROLE__C', 'RACE__C']\n",
    "\n",
    "dropped_df = filtered_df.drop(columns=drop_columns)\n",
    "dropped_df['DATE_GOAL_SET__C'] = pd.to_datetime(dropped_df['DATE_GOAL_SET__C'], errors='coerce')\n",
    "dropped_df['TARGET_COMPLETION_DATE__C'] = pd.to_datetime(dropped_df['TARGET_COMPLETION_DATE__C'], errors='coerce')\n",
    "# compute the time difference between the target completion date and the date the goal was set\n",
    "dropped_df['TIME_TO_COMPLETE'] = (dropped_df['TARGET_COMPLETION_DATE__C'] - dropped_df['DATE_GOAL_SET__C']).dt.days\n",
    "dropped_df['TIME_TO_COMPLETE'] = dropped_df['TIME_TO_COMPLETE'].fillna(0)\n",
    "dropped_df['TIME_TO_COMPLETE'] = dropped_df['TIME_TO_COMPLETE'].astype(int)\n",
    "# if the time to complete is negative, set it to 0\n",
    "dropped_df.loc[dropped_df['TIME_TO_COMPLETE'] < 0, 'TIME_TO_COMPLETE'] = 0\n",
    "\n",
    "dropped_df.drop(columns=['DATE_GOAL_SET__C', 'TARGET_COMPLETION_DATE__C'], inplace=True)\n",
    "dropped_df.fillna('Missing', inplace=True)"
   ]
  },
  {
   "cell_type": "code",
   "execution_count": 30,
   "metadata": {},
   "outputs": [],
   "source": [
    "# Define non-race values to be removed\n",
    "non_race_values = [\n",
    "    'Client doesn\\'t know', \n",
    "    'Data not collected', \n",
    "    'Not listed', \n",
    "    'Client refused'\n",
    "]\n",
    "\n",
    "# Function to clean race strings\n",
    "def clean_race_string(race_str):\n",
    "    if pd.isna(race_str):\n",
    "        return race_str\n",
    "    \n",
    "    # Split the combined race string\n",
    "    races = [r.strip() for r in race_str.split(';')]\n",
    "    \n",
    "    # Filter out non-race values\n",
    "    valid_races = [race for race in races if race not in non_race_values]\n",
    "    \n",
    "    # If no valid races remain, return None (will become 'Missing')\n",
    "    if not valid_races:\n",
    "        return None\n",
    "    \n",
    "    # Join the remaining valid races\n",
    "    return '; '.join(valid_races)\n",
    "\n",
    "dropped_df['COMBINED_RACE'] = dropped_df['COMBINED_RACE'].apply(clean_race_string)"
   ]
  },
  {
   "cell_type": "code",
   "execution_count": 33,
   "metadata": {},
   "outputs": [],
   "source": [
    "dropped_df['RECORD_ORIGIN__C_y'].value_counts()\n",
    "dropped_df.to_csv('/data-dashboard/dat/all.csv', index=False)"
   ]
  }
 ],
 "metadata": {
  "kernelspec": {
   "display_name": "base",
   "language": "python",
   "name": "python3"
  },
  "language_info": {
   "codemirror_mode": {
    "name": "ipython",
    "version": 3
   },
   "file_extension": ".py",
   "mimetype": "text/x-python",
   "name": "python",
   "nbconvert_exporter": "python",
   "pygments_lexer": "ipython3",
   "version": "3.12.2"
  }
 },
 "nbformat": 4,
 "nbformat_minor": 2
}
